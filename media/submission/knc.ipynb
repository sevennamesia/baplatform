{
 "cells": [
  {
   "cell_type": "code",
   "execution_count": 1,
   "id": "36b0af80",
   "metadata": {},
   "outputs": [
    {
     "name": "stderr",
     "output_type": "stream",
     "text": [
      "2022-11-26 10:42:15.978949: I tensorflow/stream_executor/platform/default/dso_loader.cc:49] Successfully opened dynamic library libcudart.so.10.1\n"
     ]
    }
   ],
   "source": [
    "import tensorflow as tf\n",
    "import pandas as pd\n",
    "import numpy as np\n",
    "import matplotlib.pyplot as plt\n",
    "from tensorflow import keras\n",
    "from PIL import Image\n",
    "%matplotlib inline"
   ]
  },
  {
   "cell_type": "code",
   "execution_count": 2,
   "id": "7adb576c",
   "metadata": {},
   "outputs": [],
   "source": [
    "## load data\n",
    "mnist = keras.datasets.mnist\n",
    "(x_train, y_train), (x_test, y_test) = mnist.load_data()"
   ]
  },
  {
   "cell_type": "code",
   "execution_count": 3,
   "id": "9b95f41b",
   "metadata": {},
   "outputs": [],
   "source": [
    "##normalize to (0, 1)\n",
    "x_train = x_train / 255.0\n",
    "x_test = x_test / 255.0"
   ]
  },
  {
   "cell_type": "code",
   "execution_count": 4,
   "id": "ffd407f8",
   "metadata": {},
   "outputs": [],
   "source": [
    "x_train = x_train.reshape(-1, 28*28)\n",
    "x_test = x_test.reshape(-1, 28*28)"
   ]
  },
  {
   "cell_type": "code",
   "execution_count": 5,
   "id": "df163cf0",
   "metadata": {},
   "outputs": [
    {
     "data": {
      "text/plain": [
       "KNeighborsClassifier()"
      ]
     },
     "execution_count": 5,
     "metadata": {},
     "output_type": "execute_result"
    }
   ],
   "source": [
    "from sklearn.neighbors import KNeighborsClassifier\n",
    "knc = KNeighborsClassifier()\n",
    "knc.fit(x_train, y_train)"
   ]
  },
  {
   "cell_type": "code",
   "execution_count": 6,
   "id": "1307873b",
   "metadata": {},
   "outputs": [
    {
     "data": {
      "text/plain": [
       "0.9819166666666667"
      ]
     },
     "execution_count": 6,
     "metadata": {},
     "output_type": "execute_result"
    }
   ],
   "source": [
    "knc.score(x_train, y_train)"
   ]
  },
  {
   "cell_type": "code",
   "execution_count": 7,
   "id": "488706b6",
   "metadata": {},
   "outputs": [],
   "source": [
    "knc_predict = knc.predict(x_test)"
   ]
  },
  {
   "cell_type": "code",
   "execution_count": 8,
   "id": "981adcb9",
   "metadata": {},
   "outputs": [
    {
     "data": {
      "text/plain": [
       "0.9688"
      ]
     },
     "execution_count": 8,
     "metadata": {},
     "output_type": "execute_result"
    }
   ],
   "source": [
    "from sklearn.metrics import accuracy_score\n",
    "accuracy_score(knc_predict, y_test)"
   ]
  },
  {
   "cell_type": "code",
   "execution_count": 11,
   "id": "570f1a51",
   "metadata": {},
   "outputs": [],
   "source": [
    "import pickle\n",
    "# Its important to use binary mode \n",
    "knc_model = open('knc_model', 'wb') \n",
    "      \n",
    "# source, destination \n",
    "pickle.dump(knc, knc_model)  \n",
    "\n",
    "# close the file\n",
    "knc_model.close()"
   ]
  },
  {
   "cell_type": "code",
   "execution_count": 12,
   "id": "e86f98ed",
   "metadata": {},
   "outputs": [],
   "source": [
    "## test challenge\n",
    "import scipy.io as scio\n",
    "data = scio.loadmat(\"challenge/challenge/cdigits.mat\")\n",
    "cdigits_vec = data['cdigits_vec'] \n",
    "cdigits_labels = data['cdigits_labels']"
   ]
  },
  {
   "cell_type": "code",
   "execution_count": 13,
   "id": "0eac3877",
   "metadata": {},
   "outputs": [],
   "source": [
    "x_c = cdigits_vec.T.reshape(150, 28, 28)\n",
    "for i in range(150):\n",
    "    x_c[i] = x_c[i].T\n",
    "x_c = x_c.reshape(150, 28, 28, 1)\n",
    "x_c = x_c / 255.0\n",
    "y_c = cdigits_labels.T"
   ]
  },
  {
   "cell_type": "code",
   "execution_count": 14,
   "id": "5fe9d493",
   "metadata": {},
   "outputs": [],
   "source": [
    "x_c = x_c.reshape(-1, 28*28)\n",
    "y_pre = knc.predict(x_c)"
   ]
  },
  {
   "cell_type": "code",
   "execution_count": 15,
   "id": "92cd8ec7",
   "metadata": {},
   "outputs": [
    {
     "data": {
      "text/plain": [
       "0.7466666666666667"
      ]
     },
     "execution_count": 15,
     "metadata": {},
     "output_type": "execute_result"
    }
   ],
   "source": [
    "accuracy_score(y_pre, y_c)"
   ]
  },
  {
   "cell_type": "code",
   "execution_count": null,
   "id": "795d3e0c",
   "metadata": {},
   "outputs": [],
   "source": []
  }
 ],
 "metadata": {
  "kernelspec": {
   "display_name": "Python 3 (ipykernel)",
   "language": "python",
   "name": "python3"
  },
  "language_info": {
   "codemirror_mode": {
    "name": "ipython",
    "version": 3
   },
   "file_extension": ".py",
   "mimetype": "text/x-python",
   "name": "python",
   "nbconvert_exporter": "python",
   "pygments_lexer": "ipython3",
   "version": "3.7.15"
  }
 },
 "nbformat": 4,
 "nbformat_minor": 5
}
